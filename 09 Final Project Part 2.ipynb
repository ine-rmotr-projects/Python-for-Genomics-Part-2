{
 "cells": [
  {
   "cell_type": "markdown",
   "metadata": {},
   "source": [
    "![ine-divider](https://user-images.githubusercontent.com/7065401/92672068-398e8080-f2ee-11ea-82d6-ad53f7feb5c0.png)\n",
    "<hr>\n",
    "\n",
    "### Python for Genomics\n",
    "# Section 9: Final Project Part 2 - building an alignment features summary calculator\n",
    "\n",
    "![filo_genome](https://user-images.githubusercontent.com/22747792/73678324-02c3fe00-466d-11ea-90f9-73ea6e741877.png)\n",
    "\n",
    "![orange-divider](https://user-images.githubusercontent.com/7065401/92672455-187a5f80-f2ef-11ea-890c-40be9474f7b7.png)\n",
    "\n",
    "From the previous project, we know the names, lengths, and GC contents of all the genes contained with an Ebola Virus genome.\n",
    "\n",
    "Now we want to determine the *most conserved gene* from past outbreaks. In this project we will be testing three genes:\n",
    "\n",
    "* NP (nucleoprotein)\n",
    "* GP (glycoprotein)\n",
    "* L (RNA-directed RNA polymerase L)\n",
    "\n",
    "I have already cleaned the sequences and aligned all of the genes from past outbreaks and placed them in the /gene_alignment_files/ folder.\n",
    "\n",
    "Can you write a script that gives us all the information we need from these clustal files to determine the most conserved gene?\n",
    "\n",
    "\n",
    "### Build a Clustal Omega Summary Calculator: \n",
    "\n",
    "#### The input for this calculator will be a clustal file containing a single alignment. \n",
    "\n",
    "#### The output will be a text/visual summary containing:\n",
    "\n",
    "    1. Number of sequences aligned\n",
    "    2. A consensus sequence\n",
    "    3. How many conserved bases out of the total gene\n",
    "    4. % similarity\n",
    "    5. A plot showing hamming distances between sequences\n",
    "    \n",
    "---\n",
    "#### Information on the past outbreak data:\n",
    "\n",
    "The additional sequences are obtained from:\n",
    "* AY354458.1 Zaire ebolavirus strain Zaire 1995, complete genome\n",
    "* NC_002549.1 Zaire ebolavirus isolate Ebola virus/H.sapiens-tc/COD/1976/Yambuku-Mayinga, complete genome\n",
    "* NC_004161.1 Reston ebolavirus isolate Reston virus/M.fascicularis-tc/USA/1989/Philippines89-Pennsylvania, complete genome\n",
    "* NC_006432.1 Sudan ebolavirus isolate Sudan virus/H.sapiens-tc/UGA/2000/Gulu-808892, complete genome\n",
    "* NC_014372.1 Tai Forest ebolavirus isolate Tai Forest virus/H.sapiens-tc/CIV/1994/Pauleoula-CI, complete genome\n",
    "* NC_014373.1 Bundibugyo ebolavirus, complete genome\n",
    "* NC_039345.1 Bombali ebolavirus isolate Bombali ebolavirus/Mops condylurus/SLE/2016/PREDICT_SLAB000156, complete genome\n",
    "\n",
    "The data I extracted is from Vipr's database here \n",
    "\n",
    "https://journals.plos.org/plospathogens/article/figure?id=10.1371/journal.ppat.1000212.t002"
   ]
  },
  {
   "cell_type": "markdown",
   "metadata": {},
   "source": [
    "![orange-divider](https://user-images.githubusercontent.com/7065401/92672455-187a5f80-f2ef-11ea-890c-40be9474f7b7.png)\n",
    "\n",
    "Let's build this up, one item at a time. \n",
    "\n",
    "Then, we can put all the pieces together in one function.\n"
   ]
  },
  {
   "cell_type": "markdown",
   "metadata": {},
   "source": [
    "#### Go ahead and run the cell below to import the libraries we will need to build this calculator."
   ]
  },
  {
   "cell_type": "code",
   "execution_count": 26,
   "metadata": {},
   "outputs": [],
   "source": [
    "from Bio import AlignIO\n",
    "from Bio.Align import AlignInfo\n",
    "from skbio import DNA, TabularMSA\n",
    "from skbio import DistanceMatrix\n",
    "from skbio.sequence.distance import hamming"
   ]
  },
  {
   "cell_type": "markdown",
   "metadata": {},
   "source": [
    "Now we need to import the align file using the proper AlignIO function. Then, save the summary of that alignment to a variable."
   ]
  },
  {
   "cell_type": "code",
   "execution_count": 2,
   "metadata": {},
   "outputs": [],
   "source": [
    "# Your code here..."
   ]
  },
  {
   "cell_type": "markdown",
   "metadata": {},
   "source": [
    "Now let's gather some information using that saved alignment summary. Use the len() to figure out the number of total sequences that were aligned."
   ]
  },
  {
   "cell_type": "code",
   "execution_count": 4,
   "metadata": {},
   "outputs": [],
   "source": [
    "# Your code here"
   ]
  },
  {
   "cell_type": "markdown",
   "metadata": {},
   "source": [
    "Now calculate the dumb consensus."
   ]
  },
  {
   "cell_type": "code",
   "execution_count": 6,
   "metadata": {},
   "outputs": [],
   "source": [
    "# Your code here..."
   ]
  },
  {
   "cell_type": "markdown",
   "metadata": {},
   "source": [
    "For the conserved sequences, let's use some scikit bio. It's already imported up top, but we'll have to convert our clustal file to a fasta file before we can convert that to the tabular format that scikit bio uses."
   ]
  },
  {
   "cell_type": "code",
   "execution_count": 8,
   "metadata": {},
   "outputs": [],
   "source": [
    "# Your code here..."
   ]
  },
  {
   "cell_type": "markdown",
   "metadata": {},
   "source": [
    "Now use the TabularMSA.read() to save the tabbed file to a variable, and remember to change the id's for the table by using the reassign_index method."
   ]
  },
  {
   "cell_type": "code",
   "execution_count": 10,
   "metadata": {},
   "outputs": [],
   "source": [
    "# Your code here"
   ]
  },
  {
   "cell_type": "markdown",
   "metadata": {},
   "source": [
    "Ok! Now it's time to use some methods that are specific to tabularMSA objects, such as calculating the conserved bases.\n",
    "\n",
    "Go ahead and save the conservation calcuations to a variable. (Remember, this is going to be an array.)"
   ]
  },
  {
   "cell_type": "code",
   "execution_count": 12,
   "metadata": {},
   "outputs": [],
   "source": [
    "# Your code here"
   ]
  },
  {
   "cell_type": "markdown",
   "metadata": {},
   "source": [
    "Calculate the total number of bases in that array."
   ]
  },
  {
   "cell_type": "code",
   "execution_count": null,
   "metadata": {},
   "outputs": [],
   "source": [
    "# Your code here..."
   ]
  },
  {
   "cell_type": "markdown",
   "metadata": {},
   "source": [
    "Calculate the total number of postions in that array that are equal to 1. (Meaning total conservation.)"
   ]
  },
  {
   "cell_type": "code",
   "execution_count": null,
   "metadata": {},
   "outputs": [],
   "source": [
    "# Your code here"
   ]
  },
  {
   "cell_type": "markdown",
   "metadata": {},
   "source": [
    "Divide the total number in the array with the number that is conserved to get % conservation:"
   ]
  },
  {
   "cell_type": "code",
   "execution_count": null,
   "metadata": {},
   "outputs": [],
   "source": [
    "# Your code here"
   ]
  },
  {
   "cell_type": "markdown",
   "metadata": {},
   "source": [
    "Create a distance matrix (or calculate the hamming distance).\n",
    "\n"
   ]
  },
  {
   "cell_type": "code",
   "execution_count": null,
   "metadata": {},
   "outputs": [],
   "source": [
    "# Your code here"
   ]
  },
  {
   "cell_type": "code",
   "execution_count": null,
   "metadata": {},
   "outputs": [],
   "source": [
    "# Your code here"
   ]
  },
  {
   "cell_type": "markdown",
   "metadata": {},
   "source": [
    "![orange-divider](https://user-images.githubusercontent.com/7065401/92672455-187a5f80-f2ef-11ea-890c-40be9474f7b7.png)\n",
    "\n",
    "### Putting it all together in one script/Testing NP or GP\n",
    "\n",
    "Ok, this is where you can get creative and more efficient. Instead of running all the cells individually, combine these calculations into a single function, or multiple functions within a single cell. \n",
    "\n",
    "Then, when you're done, run three clustal files in the gene_alignment_files folder:\n",
    "\n",
    "* GP_alloutbreaks.clustal\n",
    "* NP_alloutbreaks.clustal\n",
    "* L_alloutbreaks.clustal\n",
    "\n",
    "#### If we were looking to design a test for the most conserved gene, which one would we choose?\n",
    "\n",
    "In bioinformatics, it is common to pipe data from one computation into another to streamline workflows. \n",
    "\n",
    "You can do this many ways, and the correct way to do it is not the shortest, nor the fastest, nor the one using the newest software/libraries. (Although that certainly helps later on.)\n",
    "\n",
    "#### The best one is the one that makes sense to YOU.\n",
    "\n"
   ]
  },
  {
   "cell_type": "code",
   "execution_count": 44,
   "metadata": {},
   "outputs": [],
   "source": [
    "# Test GP_alloutbreaks.clustal here\n",
    "\n",
    "from Bio import AlignIO\n",
    "from Bio.Align import AlignInfo\n",
    "from skbio import DNA, TabularMSA\n",
    "from skbio import DistanceMatrix\n",
    "from skbio.sequence.distance import hamming\n",
    "\n",
    "def align_summary(clustal_file):\n",
    "    pass\n",
    "    \n",
    "def conservation(fasta_aln):\n",
    "    pass"
   ]
  },
  {
   "cell_type": "code",
   "execution_count": 43,
   "metadata": {},
   "outputs": [],
   "source": [
    "# Test NP_alloutbreaks.clustal here"
   ]
  },
  {
   "cell_type": "code",
   "execution_count": 42,
   "metadata": {},
   "outputs": [],
   "source": [
    "# Test L_alloutbreaks.clustal here"
   ]
  },
  {
   "cell_type": "markdown",
   "metadata": {},
   "source": [
    "#### Check out the solution to see mine!"
   ]
  },
  {
   "cell_type": "markdown",
   "metadata": {},
   "source": [
    "GREAT JOB! 😃\n",
    "\n",
    "![orange-divider](https://user-images.githubusercontent.com/7065401/92672455-187a5f80-f2ef-11ea-890c-40be9474f7b7.png)"
   ]
  }
 ],
 "metadata": {
  "kernelspec": {
   "display_name": "Python 3",
   "language": "python",
   "name": "python3"
  },
  "language_info": {
   "codemirror_mode": {
    "name": "ipython",
    "version": 3
   },
   "file_extension": ".py",
   "mimetype": "text/x-python",
   "name": "python",
   "nbconvert_exporter": "python",
   "pygments_lexer": "ipython3",
   "version": "3.8.6"
  }
 },
 "nbformat": 4,
 "nbformat_minor": 4
}
